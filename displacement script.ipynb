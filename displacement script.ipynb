{
 "cells": [
  {
   "cell_type": "code",
   "execution_count": 1,
   "id": "794b0cc0-0a41-47c5-9e97-82df9896dfbc",
   "metadata": {},
   "outputs": [],
   "source": [
    "import numpy as np\n",
    "import random\n",
    "import os.path"
   ]
  },
  {
   "cell_type": "markdown",
   "id": "4eeafe22-17b3-4b83-97ea-dd874bca43b8",
   "metadata": {},
   "source": [
    "# Set up information\n",
    "\n",
    "Use the cell below to pick the input file, assign scale factors for each element, and decide how many input files to generate.\n",
    "\n",
    "Each scaling factor dictionary (`scalex`, `scaley`, `scalez`) can be independently edited for each element. The scaling factors are in the same unit as the coordinates.\n",
    "\n",
    "`N` is the number of output files to generate.\n",
    "`directoryname` is the folder to store the generated files\n",
    "Generated files will have the same filename as the given input file (`inputfile`) with an integer at the end of the filename for each `N` value."
   ]
  },
  {
   "cell_type": "code",
   "execution_count": 45,
   "id": "9caa41d7-a2bf-4ac5-a6a9-d9e847c1f3d9",
   "metadata": {},
   "outputs": [],
   "source": [
    "scalex = {'Cu':0.1, 'In':0.03, 'P':0.005, 'Se':0.01}\n",
    "scaley = {'Cu':0.1, 'In':0.03, 'P':0.005, 'Se':0.01}\n",
    "scalez = {'Cu':0.1, 'In':0.03, 'P':0.005, 'Se':0.01}\n",
    "inputfile = \"CIPSe.in\"\n",
    "directoryname = \"displacements\"\n",
    "N = 10\n",
    "\n",
    "basename, ext = os.path.splitext(inputfile)\n",
    "rootname = os.path.join(directoryname, basename)"
   ]
  },
  {
   "cell_type": "markdown",
   "id": "69dd97ac-bd57-4559-b26d-ca6f14c01757",
   "metadata": {},
   "source": [
    "Execute the cell below to generate the set of input files.\n",
    "\n",
    "It starts by opening up the input file and reading all the lines into an array. Then we have two nested `for` loops. The outer loop runs N times to generate the N files. \n",
    "\n",
    "The inner loop steps through each line in the input file. First it splits up the line into words, and then searches through the file for `ATOMIC_POSITIONS`, which occurs just above the coordinates we want to change in the input file. That triggers a flag to let the script begin moving atoms. The reason for this is that just above the coordinates is a list of elements that share the same initial words.\n",
    "\n",
    "Once the script finds a line that contains coordinates, it generates new coordinates. Each coordinate gets shifted by the relevant scaling factors"
   ]
  },
  {
   "cell_type": "code",
   "execution_count": 47,
   "id": "6a052502-77ff-4386-95ff-091aa6c5db55",
   "metadata": {},
   "outputs": [
    {
     "name": "stdout",
     "output_type": "stream",
     "text": [
      "finished with displacements\\CIPSe0.in\n",
      "finished with displacements\\CIPSe1.in\n",
      "finished with displacements\\CIPSe2.in\n",
      "finished with displacements\\CIPSe3.in\n",
      "finished with displacements\\CIPSe4.in\n",
      "finished with displacements\\CIPSe5.in\n",
      "finished with displacements\\CIPSe6.in\n",
      "finished with displacements\\CIPSe7.in\n",
      "finished with displacements\\CIPSe8.in\n",
      "finished with displacements\\CIPSe9.in\n"
     ]
    }
   ],
   "source": [
    "readfile = open(inputfile)\n",
    "xyz = readfile.readlines()\n",
    "for i in np.arange(N):\n",
    "    writefile = rootname+str(i)+ext\n",
    "    coord_flag = 0\n",
    "    f = open(writefile, 'w')\n",
    "    for line in xyz:\n",
    "        words = line.split()\n",
    "        initialword = 'zz'\n",
    "        if words!=[]:\n",
    "            initialword = words[0]\n",
    "        if initialword == \"ATOMIC_POSITIONS\":\n",
    "            coord_flag = 1\n",
    "        if (initialword in scale) and coord_flag == 1:\n",
    "            newx = float(words[1]) + (random.random()-0.5)*scalex[initialword]\n",
    "            newy = float(words[2]) + (random.random()-0.5)*scaley[initialword]\n",
    "            newz = float(words[3]) + (random.random()-0.5)*scalez[initialword]\n",
    "            newline = words[0] + \" %0.9f %0.9f %0.9f\" % (newx, newy, newz)+\"\\n\"\n",
    "        else:\n",
    "            newline = line\n",
    "        f.write(newline)\n",
    "    print(f\"finished with {writefile}\")\n",
    "    f.close()\n",
    "readfile.close()"
   ]
  },
  {
   "cell_type": "code",
   "execution_count": 16,
   "id": "fe9d31c9-4090-4f8e-aada-1429a3c5844f",
   "metadata": {},
   "outputs": [],
   "source": [
    "readfile.close()\n",
    "f.close()\n"
   ]
  },
  {
   "cell_type": "code",
   "execution_count": null,
   "id": "d6a21764-1679-42c0-8f61-71a91a9d3dd0",
   "metadata": {},
   "outputs": [],
   "source": []
  }
 ],
 "metadata": {
  "kernelspec": {
   "display_name": "Python 3 (ipykernel)",
   "language": "python",
   "name": "python3"
  },
  "language_info": {
   "codemirror_mode": {
    "name": "ipython",
    "version": 3
   },
   "file_extension": ".py",
   "mimetype": "text/x-python",
   "name": "python",
   "nbconvert_exporter": "python",
   "pygments_lexer": "ipython3",
   "version": "3.13.2"
  }
 },
 "nbformat": 4,
 "nbformat_minor": 5
}
