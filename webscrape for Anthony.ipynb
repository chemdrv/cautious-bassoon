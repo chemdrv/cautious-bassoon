{
 "cells": [
  {
   "cell_type": "code",
   "execution_count": 1,
   "id": "5a9d1c33-765e-4f32-866f-5fe263c0b0af",
   "metadata": {},
   "outputs": [],
   "source": [
    "import numpy as np\n",
    "from bs4 import BeautifulSoup"
   ]
  },
  {
   "cell_type": "markdown",
   "id": "23ae96a2-64ac-434e-a990-63f51ef21fab",
   "metadata": {},
   "source": [
    "# Parsing an html document\n",
    "\n",
    "The library you want is called Beautiful Soup. Docs available here. https://beautiful-soup-4.readthedocs.io/en/latest/\n",
    "\n",
    "In the cells below, I open a saved html file, take a peak at it, and extract some data from it."
   ]
  },
  {
   "cell_type": "code",
   "execution_count": 4,
   "id": "5ff718ef-9c12-411c-9c4c-354afa8aa06a",
   "metadata": {},
   "outputs": [],
   "source": [
    "with open(\"hydrogen.html\") as fp:\n",
    "    soup = BeautifulSoup(fp)"
   ]
  },
  {
   "cell_type": "code",
   "execution_count": 5,
   "id": "233c47b3-7969-453c-ab6e-9402fdf180c9",
   "metadata": {},
   "outputs": [
    {
     "data": {
      "text/plain": [
       "<html>\n",
       "<head><title>H</title></head>\n",
       "<link href=\"../periodic.css\" rel=\"STYLESHEET\" type=\"TEXT/CSS\"/>\n",
       "<body>\n",
       "<h2>H</h2>\n",
       "<table align=\"CENTER\" cellpadding=\"4\" cellspacing=\"2\">\n",
       "<tr align=\"CENTER\">\n",
       "<th class=\"head\" width=\"10%\">Charge</th>\n",
       "<th class=\"head\" width=\"10%\">C.N.</th>\n",
       "<th class=\"head\" width=\"10%\">Spin</th>\n",
       "<th class=\"head\" width=\"10%\">I.R./Å</th>\n",
       "<tr align=\"CENTER\">\n",
       "<td class=\"NM\">+1</td>\n",
       "<td class=\"NM\">1</td>\n",
       "<td class=\"NM\"> </td>\n",
       "<td class=\"NM\">-0.38</td>\n",
       "<tr align=\"CENTER\">\n",
       "<td class=\"NM\"></td>\n",
       "<td class=\"NM\">2</td>\n",
       "<td class=\"NM\"> </td>\n",
       "<td class=\"NM\">-0.18</td>\n",
       "</tr></tr></tr></table>\n",
       "<h2>D</h2>\n",
       "<table align=\"CENTER\" cellpadding=\"4\" cellspacing=\"2\">\n",
       "<tr align=\"CENTER\">\n",
       "<th class=\"head\" width=\"10%\">Charge</th>\n",
       "<th class=\"head\" width=\"10%\">C.N.</th>\n",
       "<th class=\"head\" width=\"10%\">Spin</th>\n",
       "<th class=\"head\" width=\"10%\">I.R./Å</th>\n",
       "<tr align=\"CENTER\">\n",
       "<td class=\"NM\">+1</td>\n",
       "<td class=\"NM\">2</td>\n",
       "<td class=\"NM\"> </td>\n",
       "<td class=\"NM\">-0.10</td>\n",
       "</tr></tr></table>\n",
       "</body>\n",
       "</html>"
      ]
     },
     "execution_count": 5,
     "metadata": {},
     "output_type": "execute_result"
    }
   ],
   "source": [
    "soup"
   ]
  },
  {
   "cell_type": "code",
   "execution_count": 15,
   "id": "cbbb05e9-5134-41cf-b8f9-7d193a83a329",
   "metadata": {},
   "outputs": [
    {
     "data": {
      "text/plain": [
       "<h2>H</h2>"
      ]
     },
     "execution_count": 15,
     "metadata": {},
     "output_type": "execute_result"
    }
   ],
   "source": [
    "soup.h2\n",
    "#shows the first time that has it's tag as \"h2\", the header stating \"H\" to label the table"
   ]
  },
  {
   "cell_type": "code",
   "execution_count": 14,
   "id": "a337a6b6-8455-4b97-b19f-bcef6feda8f5",
   "metadata": {},
   "outputs": [
    {
     "data": {
      "text/plain": [
       "<tr align=\"CENTER\">\n",
       "<th class=\"head\" width=\"10%\">Charge</th>\n",
       "<th class=\"head\" width=\"10%\">C.N.</th>\n",
       "<th class=\"head\" width=\"10%\">Spin</th>\n",
       "<th class=\"head\" width=\"10%\">I.R./Å</th>\n",
       "<tr align=\"CENTER\">\n",
       "<td class=\"NM\">+1</td>\n",
       "<td class=\"NM\">1</td>\n",
       "<td class=\"NM\"> </td>\n",
       "<td class=\"NM\">-0.38</td>\n",
       "<tr align=\"CENTER\">\n",
       "<td class=\"NM\"></td>\n",
       "<td class=\"NM\">2</td>\n",
       "<td class=\"NM\"> </td>\n",
       "<td class=\"NM\">-0.18</td>\n",
       "</tr></tr></tr>"
      ]
     },
     "execution_count": 14,
     "metadata": {},
     "output_type": "execute_result"
    }
   ],
   "source": [
    "soup.tr\n",
    "#shows the first item that has it's tag as \"tr\", the table of data for hydrogen"
   ]
  },
  {
   "cell_type": "code",
   "execution_count": 16,
   "id": "ca4291bc-d09e-4333-b8d0-1d1d0fa25ae5",
   "metadata": {},
   "outputs": [
    {
     "data": {
      "text/plain": [
       "<th class=\"head\" width=\"10%\">Charge</th>"
      ]
     },
     "execution_count": 16,
     "metadata": {},
     "output_type": "execute_result"
    }
   ],
   "source": [
    "soup.tr.th\n",
    "#prints the first \"th\" entry within the first \"tr\" entry"
   ]
  },
  {
   "cell_type": "code",
   "execution_count": 17,
   "id": "b7d60738-1392-483d-a363-bf795c81a3ec",
   "metadata": {},
   "outputs": [
    {
     "data": {
      "text/plain": [
       "<td class=\"NM\">+1</td>"
      ]
     },
     "execution_count": 17,
     "metadata": {},
     "output_type": "execute_result"
    }
   ],
   "source": [
    "soup.tr.td\n",
    "#prints the first \"td\" entry within the first \"tr\" entry"
   ]
  },
  {
   "cell_type": "code",
   "execution_count": 29,
   "id": "723ec84f-3506-42ab-aab4-eb7a89321b5b",
   "metadata": {},
   "outputs": [
    {
     "data": {
      "text/plain": [
       "[<td class=\"NM\">+1</td>,\n",
       " <td class=\"NM\">1</td>,\n",
       " <td class=\"NM\"> </td>,\n",
       " <td class=\"NM\">-0.38</td>,\n",
       " <td class=\"NM\"></td>,\n",
       " <td class=\"NM\">2</td>,\n",
       " <td class=\"NM\"> </td>,\n",
       " <td class=\"NM\">-0.18</td>,\n",
       " <td class=\"NM\">+1</td>,\n",
       " <td class=\"NM\">2</td>,\n",
       " <td class=\"NM\"> </td>,\n",
       " <td class=\"NM\">-0.10</td>]"
      ]
     },
     "execution_count": 29,
     "metadata": {},
     "output_type": "execute_result"
    }
   ],
   "source": [
    "soup.find_all('td')\n",
    "#finds every \"td\" tag"
   ]
  },
  {
   "cell_type": "code",
   "execution_count": 25,
   "id": "9e3e7004-10ac-48a4-af65-4bb5b0f61a48",
   "metadata": {},
   "outputs": [
    {
     "data": {
      "text/plain": [
       "'+1'"
      ]
     },
     "execution_count": 25,
     "metadata": {},
     "output_type": "execute_result"
    }
   ],
   "source": [
    "#what if I want to grab out some contents, not the whole line? Here are a couple of examples\n",
    "tag = soup.tr.td\n",
    "tag.contents[0]"
   ]
  },
  {
   "cell_type": "code",
   "execution_count": 31,
   "id": "d27619a4-8463-4c85-a459-33c92803ac77",
   "metadata": {},
   "outputs": [
    {
     "data": {
      "text/plain": [
       "'+1'"
      ]
     },
     "execution_count": 31,
     "metadata": {},
     "output_type": "execute_result"
    }
   ],
   "source": [
    "# Here I'm finding all the items within the td tag, then displaying the contents of the first one.\n",
    "# You could imagine using a loop to step through the list and grab each value\n",
    "data = soup.find_all('td')\n",
    "data[0].contents[0]"
   ]
  },
  {
   "cell_type": "code",
   "execution_count": 45,
   "id": "90d98377-eee4-485c-8257-ebebdeb4e07d",
   "metadata": {},
   "outputs": [
    {
     "name": "stdout",
     "output_type": "stream",
     "text": [
      "\n",
      "\n",
      "Charge\n",
      "\n",
      "\n",
      "C.N.\n",
      "\n",
      "\n",
      "Spin\n",
      "\n",
      "\n",
      "I.R./Å\n",
      "\n",
      "\n",
      "None\n"
     ]
    }
   ],
   "source": [
    "#this one grabs the first tr tag and prints out it's contents in plain text\n",
    "for child in soup.tr.children:\n",
    "    print(child.string)"
   ]
  },
  {
   "cell_type": "markdown",
   "id": "4c89f9bd-71bd-4a2b-87cf-eecf126d8d40",
   "metadata": {},
   "source": [
    "There are a lot of ways to navigate through these documents. You'll want to consider how to search through the html on that page. I would image you need to plan out the structure, then write loops that will grab each piece of data. I'd probably work out how to store either rows or columns as a list, then reconstruct the table into a dataframe. You'd need to decide if you're going to fill in the implied values or leave them blank.\n",
    "\n",
    "Once you've figured out how to parse the hydrogen data into a dataframe, save it as a csv. You don't want to immediately start working with the data - you still need to learn how to get it all from the web. You'll end up in a new notebook by the time you try to ML this data. Just save it in the folder and move onto the next skill to learn."
   ]
  },
  {
   "cell_type": "markdown",
   "id": "c3797b7d-8f58-4970-82f7-f27cdede0a91",
   "metadata": {},
   "source": [
    "# Downloading the internet\n",
    "\n",
    "Beautiful Soup lets you parse an html file. But it doesn't directly talk to the internet. For that, you need another library. I've got two options for you. Firstly, I found urllib.request in the Python standard library. The code below shows you how to import it, open an URL, and has a crawler that finds all the sub-urls from a website.\n",
    "\n",
    "https://docs.python.org/3/library/urllib.request.html"
   ]
  },
  {
   "cell_type": "code",
   "execution_count": 13,
   "id": "4d90c18c-6b87-4da9-ad57-036030e04b64",
   "metadata": {},
   "outputs": [],
   "source": [
    "from urllib.request import urlopen"
   ]
  },
  {
   "cell_type": "code",
   "execution_count": 39,
   "id": "348b5d24-2369-4009-a033-112f30155c1f",
   "metadata": {},
   "outputs": [
    {
     "name": "stdout",
     "output_type": "stream",
     "text": [
      "this opened\n"
     ]
    }
   ],
   "source": [
    "with urlopen('http://mrlweb.mrl.ucsb.edu/~seshadri/Periodic/Elements/Eu.html') as response:\n",
    "    print(\"this opened\")\n",
    "    soup = BeautifulSoup(response)"
   ]
  },
  {
   "cell_type": "code",
   "execution_count": 40,
   "id": "d63e5672-e805-47d3-9fcb-06fe76b6a569",
   "metadata": {},
   "outputs": [
    {
     "data": {
      "text/plain": [
       "<html>\n",
       "<head><title>Eu</title></head>\n",
       "<link href=\"../periodic.css\" rel=\"STYLESHEET\" type=\"TEXT/CSS\"/>\n",
       "<body>\n",
       "<h2>Eu</h2>\n",
       "<table align=\"CENTER\" cellpadding=\"4\" cellspacing=\"2\">\n",
       "<tr align=\"CENTER\">\n",
       "<th class=\"head\" width=\"10%\">Charge</th>\n",
       "<th class=\"head\" width=\"10%\">C.N.</th>\n",
       "<th class=\"head\" width=\"10%\">Spin</th>\n",
       "<th class=\"head\" width=\"10%\">I.R./Å</th>\n",
       "<tr align=\"CENTER\">\n",
       "<td class=\"LA\">+2</td>\n",
       "<td class=\"LA\">6</td>\n",
       "<td class=\"LA\"></td>\n",
       "<td class=\"LA\">1.17</td>\n",
       "<tr align=\"CENTER\">\n",
       "<td class=\"LA\"></td>\n",
       "<td class=\"LA\">7</td>\n",
       "<td class=\"LA\"></td>\n",
       "<td class=\"LA\">1.20</td>\n",
       "<tr align=\"CENTER\">\n",
       "<td class=\"LA\"></td>\n",
       "<td class=\"LA\">8</td>\n",
       "<td class=\"LA\"></td>\n",
       "<td class=\"LA\">1.25</td>\n",
       "<tr align=\"CENTER\">\n",
       "<td class=\"LA\"></td>\n",
       "<td class=\"LA\">9</td>\n",
       "<td class=\"LA\"></td>\n",
       "<td class=\"LA\">1.30</td>\n",
       "<tr align=\"CENTER\">\n",
       "<td class=\"LA\"></td>\n",
       "<td class=\"LA\">10</td>\n",
       "<td class=\"LA\"></td>\n",
       "<td class=\"LA\">1.35</td>\n",
       "<tr align=\"CENTER\">\n",
       "<td class=\"LA\"></td>\n",
       "<td class=\"LA\">12</td>\n",
       "<td class=\"LA\"></td>\n",
       "<td class=\"LA\">1.48 (interpolation)</td>\n",
       "<tr align=\"CENTER\">\n",
       "<td class=\"LA\">+3</td>\n",
       "<td class=\"LA\">6</td>\n",
       "<td class=\"LA\"></td>\n",
       "<td class=\"LA\">0.947</td>\n",
       "<tr align=\"CENTER\">\n",
       "<td class=\"LA\"></td>\n",
       "<td class=\"LA\">7</td>\n",
       "<td class=\"LA\"></td>\n",
       "<td class=\"LA\">1.01</td>\n",
       "<tr align=\"CENTER\">\n",
       "<td class=\"LA\"></td>\n",
       "<td class=\"LA\">8</td>\n",
       "<td class=\"LA\"></td>\n",
       "<td class=\"LA\">1.066</td>\n",
       "<tr align=\"CENTER\">\n",
       "<td class=\"LA\"></td>\n",
       "<td class=\"LA\">9</td>\n",
       "<td class=\"LA\"></td>\n",
       "<td class=\"LA\">1.120</td>\n",
       "</tr></tr></tr></tr></tr></tr></tr></tr></tr></tr></tr></table>\n",
       "</body>\n",
       "</html>"
      ]
     },
     "execution_count": 40,
     "metadata": {},
     "output_type": "execute_result"
    }
   ],
   "source": [
    "soup"
   ]
  },
  {
   "cell_type": "code",
   "execution_count": 35,
   "id": "78f7ec0b-33ef-4207-b6fe-95a92dd3166d",
   "metadata": {},
   "outputs": [],
   "source": [
    "def crawl(page, depth = None):\n",
    "    indexed_url = []\n",
    "    for i in range(depth):\n",
    "        if page not in indexed_url:\n",
    "            indexed_url.append(page)\n",
    "            try:\n",
    "                c = urlopen(page)\n",
    "                print(\"opened\")\n",
    "            except:\n",
    "                print(\"could not open %s\" % page)\n",
    "                continue\n",
    "            soup = BeautifulSoup(c.read())\n",
    "            links = soup('a')\n",
    "            for link in links:\n",
    "                if 'href' in dict(link.attrs):\n",
    "                    url = urljoin(page, link['href'])\n",
    "                    if url.find(\"'\") != -1:\n",
    "                        continue\n",
    "                    url = url.split('#')[0]\n",
    "                    if url[0:4] == 'http':\n",
    "                        indexed_url.append(url)\n",
    "    return indexed_url"
   ]
  },
  {
   "cell_type": "code",
   "execution_count": 37,
   "id": "01c9487e-fb00-42c7-9eb0-aa8cbb1ef2c4",
   "metadata": {},
   "outputs": [
    {
     "name": "stdout",
     "output_type": "stream",
     "text": [
      "opened\n"
     ]
    },
    {
     "data": {
      "text/plain": [
       "['http://mrlweb.mrl.ucsb.edu/~seshadri/Periodic/periodic.html',\n",
       " 'http://mrlweb.mrl.ucsb.edu/~seshadri/Periodic/Elements/H.html',\n",
       " 'http://mrlweb.mrl.ucsb.edu/~seshadri/Periodic/Elements/He.html',\n",
       " 'http://mrlweb.mrl.ucsb.edu/~seshadri/Periodic/Elements/Li.html',\n",
       " 'http://mrlweb.mrl.ucsb.edu/~seshadri/Periodic/Elements/Be.html',\n",
       " 'http://mrlweb.mrl.ucsb.edu/~seshadri/Periodic/Elements/B.html',\n",
       " 'http://mrlweb.mrl.ucsb.edu/~seshadri/Periodic/Elements/C.html',\n",
       " 'http://mrlweb.mrl.ucsb.edu/~seshadri/Periodic/Elements/N.html',\n",
       " 'http://mrlweb.mrl.ucsb.edu/~seshadri/Periodic/Elements/O.html',\n",
       " 'http://mrlweb.mrl.ucsb.edu/~seshadri/Periodic/Elements/F.html',\n",
       " 'http://mrlweb.mrl.ucsb.edu/~seshadri/Periodic/Elements/Ne.html',\n",
       " 'http://mrlweb.mrl.ucsb.edu/~seshadri/Periodic/Elements/Na.html',\n",
       " 'http://mrlweb.mrl.ucsb.edu/~seshadri/Periodic/Elements/Mg.html',\n",
       " 'http://mrlweb.mrl.ucsb.edu/~seshadri/Periodic/Elements/Al.html',\n",
       " 'http://mrlweb.mrl.ucsb.edu/~seshadri/Periodic/Elements/Si.html',\n",
       " 'http://mrlweb.mrl.ucsb.edu/~seshadri/Periodic/Elements/P.html',\n",
       " 'http://mrlweb.mrl.ucsb.edu/~seshadri/Periodic/Elements/S.html',\n",
       " 'http://mrlweb.mrl.ucsb.edu/~seshadri/Periodic/Elements/Cl.html',\n",
       " 'http://mrlweb.mrl.ucsb.edu/~seshadri/Periodic/Elements/Ar.html',\n",
       " 'http://mrlweb.mrl.ucsb.edu/~seshadri/Periodic/Elements/K.html',\n",
       " 'http://mrlweb.mrl.ucsb.edu/~seshadri/Periodic/Elements/Ca.html',\n",
       " 'http://mrlweb.mrl.ucsb.edu/~seshadri/Periodic/Elements/Sc.html',\n",
       " 'http://mrlweb.mrl.ucsb.edu/~seshadri/Periodic/Elements/Ti.html',\n",
       " 'http://mrlweb.mrl.ucsb.edu/~seshadri/Periodic/Elements/V.html',\n",
       " 'http://mrlweb.mrl.ucsb.edu/~seshadri/Periodic/Elements/Cr.html',\n",
       " 'http://mrlweb.mrl.ucsb.edu/~seshadri/Periodic/Elements/Mn.html',\n",
       " 'http://mrlweb.mrl.ucsb.edu/~seshadri/Periodic/Elements/Fe.html',\n",
       " 'http://mrlweb.mrl.ucsb.edu/~seshadri/Periodic/Elements/Co.html',\n",
       " 'http://mrlweb.mrl.ucsb.edu/~seshadri/Periodic/Elements/Ni.html',\n",
       " 'http://mrlweb.mrl.ucsb.edu/~seshadri/Periodic/Elements/Cu.html',\n",
       " 'http://mrlweb.mrl.ucsb.edu/~seshadri/Periodic/Elements/Zn.html',\n",
       " 'http://mrlweb.mrl.ucsb.edu/~seshadri/Periodic/Elements/Ga.html',\n",
       " 'http://mrlweb.mrl.ucsb.edu/~seshadri/Periodic/Elements/Ge.html',\n",
       " 'http://mrlweb.mrl.ucsb.edu/~seshadri/Periodic/Elements/As.html',\n",
       " 'http://mrlweb.mrl.ucsb.edu/~seshadri/Periodic/Elements/Se.html',\n",
       " 'http://mrlweb.mrl.ucsb.edu/~seshadri/Periodic/Elements/Br.html',\n",
       " 'http://mrlweb.mrl.ucsb.edu/~seshadri/Periodic/Elements/Kr.html',\n",
       " 'http://mrlweb.mrl.ucsb.edu/~seshadri/Periodic/Elements/Rb.html',\n",
       " 'http://mrlweb.mrl.ucsb.edu/~seshadri/Periodic/Elements/Sr.html',\n",
       " 'http://mrlweb.mrl.ucsb.edu/~seshadri/Periodic/Elements/Y.html',\n",
       " 'http://mrlweb.mrl.ucsb.edu/~seshadri/Periodic/Elements/Zr.html',\n",
       " 'http://mrlweb.mrl.ucsb.edu/~seshadri/Periodic/Elements/Nb.html',\n",
       " 'http://mrlweb.mrl.ucsb.edu/~seshadri/Periodic/Elements/Mo.html',\n",
       " 'http://mrlweb.mrl.ucsb.edu/~seshadri/Periodic/Elements/Tc.html',\n",
       " 'http://mrlweb.mrl.ucsb.edu/~seshadri/Periodic/Elements/Ru.html',\n",
       " 'http://mrlweb.mrl.ucsb.edu/~seshadri/Periodic/Elements/Rh.html',\n",
       " 'http://mrlweb.mrl.ucsb.edu/~seshadri/Periodic/Elements/Pd.html',\n",
       " 'http://mrlweb.mrl.ucsb.edu/~seshadri/Periodic/Elements/Ag.html',\n",
       " 'http://mrlweb.mrl.ucsb.edu/~seshadri/Periodic/Elements/Cd.html',\n",
       " 'http://mrlweb.mrl.ucsb.edu/~seshadri/Periodic/Elements/In.html',\n",
       " 'http://mrlweb.mrl.ucsb.edu/~seshadri/Periodic/Elements/Sn.html',\n",
       " 'http://mrlweb.mrl.ucsb.edu/~seshadri/Periodic/Elements/Sb.html',\n",
       " 'http://mrlweb.mrl.ucsb.edu/~seshadri/Periodic/Elements/Te.html',\n",
       " 'http://mrlweb.mrl.ucsb.edu/~seshadri/Periodic/Elements/I.html',\n",
       " 'http://mrlweb.mrl.ucsb.edu/~seshadri/Periodic/Elements/Xe.html',\n",
       " 'http://mrlweb.mrl.ucsb.edu/~seshadri/Periodic/Elements/Cs.html',\n",
       " 'http://mrlweb.mrl.ucsb.edu/~seshadri/Periodic/Elements/Ba.html',\n",
       " 'http://mrlweb.mrl.ucsb.edu/~seshadri/Periodic/Elements/La.html',\n",
       " 'http://mrlweb.mrl.ucsb.edu/~seshadri/Periodic/Elements/Hf.html',\n",
       " 'http://mrlweb.mrl.ucsb.edu/~seshadri/Periodic/Elements/Ta.html',\n",
       " 'http://mrlweb.mrl.ucsb.edu/~seshadri/Periodic/Elements/W.html',\n",
       " 'http://mrlweb.mrl.ucsb.edu/~seshadri/Periodic/Elements/Re.html',\n",
       " 'http://mrlweb.mrl.ucsb.edu/~seshadri/Periodic/Elements/Os.html',\n",
       " 'http://mrlweb.mrl.ucsb.edu/~seshadri/Periodic/Elements/Ir.html',\n",
       " 'http://mrlweb.mrl.ucsb.edu/~seshadri/Periodic/Elements/Pt.html',\n",
       " 'http://mrlweb.mrl.ucsb.edu/~seshadri/Periodic/Elements/Au.html',\n",
       " 'http://mrlweb.mrl.ucsb.edu/~seshadri/Periodic/Elements/Hg.html',\n",
       " 'http://mrlweb.mrl.ucsb.edu/~seshadri/Periodic/Elements/Tl.html',\n",
       " 'http://mrlweb.mrl.ucsb.edu/~seshadri/Periodic/Elements/Pb.html',\n",
       " 'http://mrlweb.mrl.ucsb.edu/~seshadri/Periodic/Elements/Bi.html',\n",
       " 'http://mrlweb.mrl.ucsb.edu/~seshadri/Periodic/Elements/Po.html',\n",
       " 'http://mrlweb.mrl.ucsb.edu/~seshadri/Periodic/Elements/At.html',\n",
       " 'http://mrlweb.mrl.ucsb.edu/~seshadri/Periodic/Elements/Rn.html',\n",
       " 'http://mrlweb.mrl.ucsb.edu/~seshadri/Periodic/Elements/Fr.html',\n",
       " 'http://mrlweb.mrl.ucsb.edu/~seshadri/Periodic/Elements/Ra.html',\n",
       " 'http://mrlweb.mrl.ucsb.edu/~seshadri/Periodic/Elements/Ac.html',\n",
       " 'http://mrlweb.mrl.ucsb.edu/~seshadri/Periodic/Elements/Ce.html',\n",
       " 'http://mrlweb.mrl.ucsb.edu/~seshadri/Periodic/Elements/Pr.html',\n",
       " 'http://mrlweb.mrl.ucsb.edu/~seshadri/Periodic/Elements/Nd.html',\n",
       " 'http://mrlweb.mrl.ucsb.edu/~seshadri/Periodic/Elements/Pm.html',\n",
       " 'http://mrlweb.mrl.ucsb.edu/~seshadri/Periodic/Elements/Sm.html',\n",
       " 'http://mrlweb.mrl.ucsb.edu/~seshadri/Periodic/Elements/Eu.html',\n",
       " 'http://mrlweb.mrl.ucsb.edu/~seshadri/Periodic/Elements/Gd.html',\n",
       " 'http://mrlweb.mrl.ucsb.edu/~seshadri/Periodic/Elements/Tb.html',\n",
       " 'http://mrlweb.mrl.ucsb.edu/~seshadri/Periodic/Elements/Dy.html',\n",
       " 'http://mrlweb.mrl.ucsb.edu/~seshadri/Periodic/Elements/Ho.html',\n",
       " 'http://mrlweb.mrl.ucsb.edu/~seshadri/Periodic/Elements/Er.html',\n",
       " 'http://mrlweb.mrl.ucsb.edu/~seshadri/Periodic/Elements/Tm.html',\n",
       " 'http://mrlweb.mrl.ucsb.edu/~seshadri/Periodic/Elements/Yb.html',\n",
       " 'http://mrlweb.mrl.ucsb.edu/~seshadri/Periodic/Elements/Lu.html',\n",
       " 'http://mrlweb.mrl.ucsb.edu/~seshadri/Periodic/Elements/Th.html',\n",
       " 'http://mrlweb.mrl.ucsb.edu/~seshadri/Periodic/Elements/Pa.html',\n",
       " 'http://mrlweb.mrl.ucsb.edu/~seshadri/Periodic/Elements/U.html',\n",
       " 'http://mrlweb.mrl.ucsb.edu/~seshadri/Periodic/Elements/Np.html',\n",
       " 'http://mrlweb.mrl.ucsb.edu/~seshadri/Periodic/Elements/Pu.html',\n",
       " 'http://mrlweb.mrl.ucsb.edu/~seshadri/Periodic/Elements/Am.html',\n",
       " 'http://mrlweb.mrl.ucsb.edu/~seshadri/Periodic/Elements/Cm.html',\n",
       " 'http://mrlweb.mrl.ucsb.edu/~seshadri/Periodic/Elements/Bk.html',\n",
       " 'http://mrlweb.mrl.ucsb.edu/~seshadri/Periodic/Elements/Cf.html',\n",
       " 'http://mrlweb.mrl.ucsb.edu/~seshadri/Periodic/Elements/Es.html',\n",
       " 'http://mrlweb.mrl.ucsb.edu/~seshadri/Periodic/Elements/Fm.html',\n",
       " 'http://mrlweb.mrl.ucsb.edu/~seshadri/Periodic/Elements/Md.html',\n",
       " 'http://mrlweb.mrl.ucsb.edu/~seshadri/Periodic/Elements/No.html',\n",
       " 'http://mrlweb.mrl.ucsb.edu/~seshadri/Periodic/Elements/Lr.html',\n",
       " 'http://www.mrl.ucsb.edu/~seshadri']"
      ]
     },
     "execution_count": 37,
     "metadata": {},
     "output_type": "execute_result"
    }
   ],
   "source": [
    "crawl(\"http://mrlweb.mrl.ucsb.edu/~seshadri/Periodic/periodic.html\", depth = 2)"
   ]
  },
  {
   "cell_type": "code",
   "execution_count": null,
   "id": "def717f8-3aa5-4fb0-9ee6-95a072c61ab2",
   "metadata": {},
   "outputs": [],
   "source": []
  },
  {
   "cell_type": "markdown",
   "id": "59c3d562-044c-4664-902b-28331f2d313b",
   "metadata": {},
   "source": [
    "# Learning the Requests library\n",
    "\n",
    "https://docs.python-requests.org/en/latest/user/advanced/\n",
    "\n",
    "My nerd spouse says that `requests` is the more common way to talk to the internet. Here's the usage of that, though without a handy crawler because I need to move onto other things today."
   ]
  },
  {
   "cell_type": "code",
   "execution_count": 47,
   "id": "88eeda97-c03b-4f94-8bf1-2accdd40b0c6",
   "metadata": {},
   "outputs": [],
   "source": [
    "import requests\n"
   ]
  },
  {
   "cell_type": "code",
   "execution_count": 50,
   "id": "427e6bfb-b268-49aa-bd13-716a8c8a8ee2",
   "metadata": {},
   "outputs": [],
   "source": [
    "r = requests.get('http://mrlweb.mrl.ucsb.edu/~seshadri/Periodic/periodic.html')"
   ]
  },
  {
   "cell_type": "code",
   "execution_count": 53,
   "id": "9fc8702c-ac63-462b-a302-961831bbeb27",
   "metadata": {},
   "outputs": [],
   "source": [
    "soup = BeautifulSoup(r.text)"
   ]
  },
  {
   "cell_type": "code",
   "execution_count": 54,
   "id": "6eadeebe-4ab6-41f5-8e7f-5b67d91fd7ca",
   "metadata": {},
   "outputs": [
    {
     "data": {
      "text/plain": [
       "<html>\n",
       "<head>\n",
       "<title>Ram Seshadri Group at UCSB: Periodic table of the elements</title>\n",
       "<link href=\"mailto:seshadri@sscu.iisc.ernet.in\" rev=\"made\"/>\n",
       "<meta content=\"Ram Seshadri Group Periodic Table Effective Ionic Radii Shannon Prewitt Radii\" name=\"keywords\"/>\n",
       "<meta content=\"Shannon Prewitt Effective Ionic Radii for Ions and Elements\" name=\"description\"/>\n",
       "<meta content=\"General\" name=\"rating\"/>\n",
       "<meta content=\"15 days\" name=\"revisit-after\"/>\n",
       "<meta content=\"Homepage\" name=\"VW96.objecttype\"/>\n",
       "</head>\n",
       "<link href=\"periodic.css\" rel=\"STYLESHEET\" type=\"TEXT/CSS\"/>\n",
       "<body>\n",
       "<h2>Periodic table of the elements</h2>\n",
       "<h3>Click on the element for tables of the Effective Ionic Radii</h3>\n",
       "<table align=\"CENTER\" cellpadding=\"2\" cellspacing=\"2\" width=\"90%\">\n",
       "<tr align=\"CENTER\">\n",
       "<th class=\"head\" width=\"5%\">1</th> <th class=\"head\" width=\"5%\">2</th>\n",
       "<th class=\"head\" width=\"5%\">3</th> <th class=\"head\" width=\"5%\">4</th>\n",
       "<th class=\"head\" width=\"5%\">5</th> <th class=\"head\" width=\"5%\">6</th>\n",
       "<th class=\"head\" width=\"5%\">7</th> <th class=\"head\" width=\"5%\">8</th>\n",
       "<th class=\"head\" width=\"5%\">9</th> <th class=\"head\" width=\"5%\">10</th>\n",
       "<th class=\"head\" width=\"5%\">11</th> <th class=\"head\" width=\"5%\">12</th>\n",
       "<th class=\"head\" width=\"5%\">13</th> <th class=\"head\" width=\"5%\">14</th>\n",
       "<th class=\"head\" width=\"5%\">15</th> <th class=\"head\" width=\"5%\">16</th>\n",
       "<th class=\"head\" width=\"5%\">17</th> <th class=\"head\" width=\"5%\">18</th>\n",
       "<tr align=\"CENTER\">\n",
       "<td class=\"AA\"><a href=\"Elements/H.html\" target=\"ELEM\">H</a><br/>1<br/>1.008\n",
       "<td class=\"null\" colspan=\"16\">\n",
       "<td class=\"NG\"><a href=\"Elements/He.html\" target=\"ELEM\">He</a><br/>2<br/>4.003\n",
       "\n",
       "<tr align=\"CENTER\">\n",
       "<td class=\"AA\"><a href=\"Elements/Li.html\" target=\"ELEM\">Li</a><br/>3<br/>6.941\n",
       "<td class=\"AA\"><a href=\"Elements/Be.html\" target=\"ELEM\">Be</a><br/>4<br/>9.012\n",
       "<td class=\"null\" colspan=\"10\">\n",
       "<td class=\"NM\"><a href=\"Elements/B.html\" target=\"ELEM\"> B</a><br/>5<br/>10.81 \n",
       "<td class=\"NM\"><a href=\"Elements/C.html\" target=\"ELEM\"> C</a><br/>6<br/>12.01 \n",
       "<td class=\"NM\"><a href=\"Elements/N.html\" target=\"ELEM\"> N</a><br/>7<br/>14.01 \n",
       "<td class=\"NM\"><a href=\"Elements/O.html\" target=\"ELEM\"> O</a><br/>8<br/>16.00 \n",
       "<td class=\"NM\"><a href=\"Elements/F.html\" target=\"ELEM\"> F</a><br/>9<br/>19.00 \n",
       "<td class=\"NG\"><a href=\"Elements/Ne.html\" target=\"ELEM\">Ne</a><br/>10<br/>20.18 \n",
       "\n",
       "<tr align=\"CENTER\">\n",
       "<td class=\"AA\"><a href=\"Elements/Na.html\" target=\"ELEM\">Na</a><br/>11<br/>22.99 \n",
       "<td class=\"AA\"><a href=\"Elements/Mg.html\" target=\"ELEM\">Mg</a><br/>12<br/>24.30 \n",
       "<td class=\"null\" colspan=\"10\">\n",
       "<td class=\"MD\"><a href=\"Elements/Al.html\" target=\"ELEM\">Al</a><br/>13<br/>26.98 \n",
       "<td class=\"NM\"><a href=\"Elements/Si.html\" target=\"ELEM\">Si</a><br/>14<br/>28.09 \n",
       "<td class=\"NM\"><a href=\"Elements/P.html\" target=\"ELEM\"> P</a><br/>15<br/>30.97 \n",
       "<td class=\"NM\"><a href=\"Elements/S.html\" target=\"ELEM\"> S</a><br/>16<br/>32.07 \n",
       "<td class=\"NM\"><a href=\"Elements/Cl.html\" target=\"ELEM\">Cl</a><br/>17<br/>35.45 \n",
       "<td class=\"NG\"><a href=\"Elements/Ar.html\" target=\"ELEM\">Ar</a><br/>18<br/>39.95 \n",
       "\n",
       "<tr align=\"CENTER\">\n",
       "<td class=\"AA\"><a href=\"Elements/K.html\" target=\"ELEM\"> K</a><br/>19<br/>39.10 \n",
       "<td class=\"AA\"><a href=\"Elements/Ca.html\" target=\"ELEM\">Ca</a><br/>20<br/>40.08 \n",
       "<td class=\"TM\"><a href=\"Elements/Sc.html\" target=\"ELEM\">Sc</a><br/>21<br/>44.96 \n",
       "<td class=\"TM\"><a href=\"Elements/Ti.html\" target=\"ELEM\">Ti</a><br/>22<br/>47.88 \n",
       "<td class=\"TM\"><a href=\"Elements/V.html\" target=\"ELEM\"> V</a><br/>23<br/>50.94 \n",
       "<td class=\"TM\"><a href=\"Elements/Cr.html\" target=\"ELEM\">Cr</a><br/>24<br/>52.00 \n",
       "<td class=\"TM\"><a href=\"Elements/Mn.html\" target=\"ELEM\">Mn</a><br/>25<br/>54.94 \n",
       "<td class=\"TM\"><a href=\"Elements/Fe.html\" target=\"ELEM\">Fe</a><br/>26<br/>55.85 \n",
       "<td class=\"TM\"><a href=\"Elements/Co.html\" target=\"ELEM\">Co</a><br/>27<br/>58.93 \n",
       "<td class=\"TM\"><a href=\"Elements/Ni.html\" target=\"ELEM\">Ni</a><br/>28<br/>58.69 \n",
       "<td class=\"TM\"><a href=\"Elements/Cu.html\" target=\"ELEM\">Cu</a><br/>29<br/>63.55 \n",
       "<td class=\"TM\"><a href=\"Elements/Zn.html\" target=\"ELEM\">Zn</a><br/>30<br/>65.39 \n",
       "<td class=\"MD\"><a href=\"Elements/Ga.html\" target=\"ELEM\">Ga</a><br/>31<br/>69.72 \n",
       "<td class=\"MD\"><a href=\"Elements/Ge.html\" target=\"ELEM\">Ge</a><br/>32<br/>72.61 \n",
       "<td class=\"NM\"><a href=\"Elements/As.html\" target=\"ELEM\">As</a><br/>33<br/>74.92 \n",
       "<td class=\"NM\"><a href=\"Elements/Se.html\" target=\"ELEM\">Se</a><br/>34<br/>78.96 \n",
       "<td class=\"NM\"><a href=\"Elements/Br.html\" target=\"ELEM\">Br</a><br/>35<br/>79.90 \n",
       "<td class=\"NG\"><a href=\"Elements/Kr.html\" target=\"ELEM\">Kr</a><br/>36<br/>83.80 \n",
       "\n",
       "<tr align=\"CENTER\">\n",
       "<td class=\"AA\"><a href=\"Elements/Rb.html\" target=\"ELEM\">Rb</a><br/>37<br/>85.47 \n",
       "<td class=\"AA\"><a href=\"Elements/Sr.html\" target=\"ELEM\">Sr</a><br/>38<br/>87.62 \n",
       "<td class=\"TM\"><a href=\"Elements/Y.html\" target=\"ELEM\"> Y</a><br/>39<br/>88.91 \n",
       "<td class=\"TM\"><a href=\"Elements/Zr.html\" target=\"ELEM\">Zr</a><br/>40<br/>91.22 \n",
       "<td class=\"TM\"><a href=\"Elements/Nb.html\" target=\"ELEM\">Nb</a><br/>41<br/>92.91 \n",
       "<td class=\"TM\"><a href=\"Elements/Mo.html\" target=\"ELEM\">Mo</a><br/>42<br/>95.94 \n",
       "<td class=\"TM\"><a href=\"Elements/Tc.html\" target=\"ELEM\">Tc</a><br/>43<br/>98.91 \n",
       "<td class=\"TM\"><a href=\"Elements/Ru.html\" target=\"ELEM\">Ru</a><br/>44<br/>101.1 \n",
       "<td class=\"TM\"><a href=\"Elements/Rh.html\" target=\"ELEM\">Rh</a><br/>45<br/>102.9 \n",
       "<td class=\"TM\"><a href=\"Elements/Pd.html\" target=\"ELEM\">Pd</a><br/>46<br/>106.4 \n",
       "<td class=\"TM\"><a href=\"Elements/Ag.html\" target=\"ELEM\">Ag</a><br/>47<br/>107.9 \n",
       "<td class=\"TM\"><a href=\"Elements/Cd.html\" target=\"ELEM\">Cd</a><br/>48<br/>112.4 \n",
       "<td class=\"MD\"><a href=\"Elements/In.html\" target=\"ELEM\">In</a><br/>49<br/>114.8 \n",
       "<td class=\"MD\"><a href=\"Elements/Sn.html\" target=\"ELEM\">Sn</a><br/>50<br/>118.7 \n",
       "<td class=\"MD\"><a href=\"Elements/Sb.html\" target=\"ELEM\">Sb</a><br/>51<br/>121.8 \n",
       "<td class=\"NM\"><a href=\"Elements/Te.html\" target=\"ELEM\">Te</a><br/>52<br/>127.6 \n",
       "<td class=\"NM\"><a href=\"Elements/I.html\" target=\"ELEM\"> I</a><br/>53<br/>126.9 \n",
       "<td class=\"NG\"><a href=\"Elements/Xe.html\" target=\"ELEM\">Xe</a><br/>54<br/>131.3 \n",
       "\n",
       "<tr align=\"CENTER\">\n",
       "<td class=\"AA\"><a href=\"Elements/Cs.html\" target=\"ELEM\">Cs</a><br/>55<br/>132.9 \n",
       "<td class=\"AA\"><a href=\"Elements/Ba.html\" target=\"ELEM\">Ba</a><br/>56<br/>137.3 \n",
       "<td class=\"LA\"><a href=\"Elements/La.html\" target=\"ELEM\">La</a><br/>57<br/>138.9 \n",
       "<td class=\"TM\"><a href=\"Elements/Hf.html\" target=\"ELEM\">Hf</a><br/>72<br/>178.5 \n",
       "<td class=\"TM\"><a href=\"Elements/Ta.html\" target=\"ELEM\">Ta</a><br/>73<br/>180.9 \n",
       "<td class=\"TM\"><a href=\"Elements/W.html\" target=\"ELEM\"> W</a><br/>74<br/>183.8 \n",
       "<td class=\"TM\"><a href=\"Elements/Re.html\" target=\"ELEM\">Re</a><br/>75<br/>186.2 \n",
       "<td class=\"TM\"><a href=\"Elements/Os.html\" target=\"ELEM\">Os</a><br/>76<br/>190.2 \n",
       "<td class=\"TM\"><a href=\"Elements/Ir.html\" target=\"ELEM\">Ir</a><br/>77<br/>192.2 \n",
       "<td class=\"TM\"><a href=\"Elements/Pt.html\" target=\"ELEM\">Pt</a><br/>78<br/>195.1 \n",
       "<td class=\"TM\"><a href=\"Elements/Au.html\" target=\"ELEM\">Au</a><br/>79<br/>197.0 \n",
       "<td class=\"TM\"><a href=\"Elements/Hg.html\" target=\"ELEM\">Hg</a><br/>80<br/>200.6 \n",
       "<td class=\"MD\"><a href=\"Elements/Tl.html\" target=\"ELEM\">Tl</a><br/>81<br/>204.4 \n",
       "<td class=\"MD\"><a href=\"Elements/Pb.html\" target=\"ELEM\">Pb</a><br/>82<br/>207.2 \n",
       "<td class=\"MD\"><a href=\"Elements/Bi.html\" target=\"ELEM\">Bi</a><br/>83<br/>209.0 \n",
       "<td class=\"MD\"><a href=\"Elements/Po.html\" target=\"ELEM\">Po</a><br/>84<br/>210.0 \n",
       "<td class=\"NM\"><a href=\"Elements/At.html\" target=\"ELEM\">At</a><br/>85<br/>210.0 \n",
       "<td class=\"NG\"><a href=\"Elements/Rn.html\" target=\"ELEM\">Rn</a><br/>86<br/>222.0 \n",
       "\n",
       "<tr align=\"CENTER\">\n",
       "<td class=\"AA\"><a href=\"Elements/Fr.html\" target=\"ELEM\">Fr</a><br/>87<br/>223.0 \n",
       "<td class=\"AA\"><a href=\"Elements/Ra.html\" target=\"ELEM\">Ra</a><br/>88<br/>226.0 \n",
       "<td class=\"AC\"><a href=\"Elements/Ac.html\" target=\"ELEM\">Ac</a><br/>89<br/>227.0 \n",
       "\n",
       "<tr align=\"CENTER\">\n",
       "<td class=\"null\">\n",
       "<td class=\"null\">\n",
       "<td class=\"LA\"><a href=\"Elements/Ce.html\" target=\"ELEM\">Ce</a><br/>58<br/>140.1 \n",
       "<td class=\"LA\"><a href=\"Elements/Pr.html\" target=\"ELEM\">Pr</a><br/>59<br/>140.9 \n",
       "<td class=\"LA\"><a href=\"Elements/Nd.html\" target=\"ELEM\">Nd</a><br/>60<br/>144.2 \n",
       "<td class=\"LA\"><a href=\"Elements/Pm.html\" target=\"ELEM\">Pm</a><br/>61<br/>144.9 \n",
       "<td class=\"LA\"><a href=\"Elements/Sm.html\" target=\"ELEM\">Sm</a><br/>62<br/>150.4 \n",
       "<td class=\"LA\"><a href=\"Elements/Eu.html\" target=\"ELEM\">Eu</a><br/>63<br/>152.0 \n",
       "<td class=\"LA\"><a href=\"Elements/Gd.html\" target=\"ELEM\">Gd</a><br/>64<br/>157.2 \n",
       "<td class=\"LA\"><a href=\"Elements/Tb.html\" target=\"ELEM\">Tb</a><br/>65<br/>158.9 \n",
       "<td class=\"LA\"><a href=\"Elements/Dy.html\" target=\"ELEM\">Dy</a><br/>66<br/>162.5 \n",
       "<td class=\"LA\"><a href=\"Elements/Ho.html\" target=\"ELEM\">Ho</a><br/>67<br/>164.9 \n",
       "<td class=\"LA\"><a href=\"Elements/Er.html\" target=\"ELEM\">Er</a><br/>68<br/>167.3 \n",
       "<td class=\"LA\"><a href=\"Elements/Tm.html\" target=\"ELEM\">Tm</a><br/>69<br/>168.9 \n",
       "<td class=\"LA\"><a href=\"Elements/Yb.html\" target=\"ELEM\">Yb</a><br/>70<br/>173.0 \n",
       "<td class=\"LA\"><a href=\"Elements/Lu.html\" target=\"ELEM\">Lu</a><br/>71<br/>175.0 \n",
       "\n",
       "<tr align=\"CENTER\">\n",
       "<td class=\"null\">\n",
       "<td class=\"null\">\n",
       "<td class=\"AC\"><a href=\"Elements/Th.html\" target=\"ELEM\">Th</a><br/>90<br/>232.0 \n",
       "<td class=\"AC\"><a href=\"Elements/Pa.html\" target=\"ELEM\">Pa</a><br/>91<br/>231.0 \n",
       "<td class=\"AC\"><a href=\"Elements/U.html\" target=\"ELEM\"> U</a><br/>92<br/>238.0 \n",
       "<td class=\"AC\"><a href=\"Elements/Np.html\" target=\"ELEM\">Np</a><br/>93<br/>237.0 \n",
       "<td class=\"AC\"><a href=\"Elements/Pu.html\" target=\"ELEM\">Pu</a><br/>94<br/>239.1 \n",
       "<td class=\"AC\"><a href=\"Elements/Am.html\" target=\"ELEM\">Am</a><br/>95<br/>243.1 \n",
       "<td class=\"AC\"><a href=\"Elements/Cm.html\" target=\"ELEM\">Cm</a><br/>96<br/>247.1 \n",
       "<td class=\"AC\"><a href=\"Elements/Bk.html\" target=\"ELEM\">Bk</a><br/>97<br/>247.1 \n",
       "<td class=\"AC\"><a href=\"Elements/Cf.html\" target=\"ELEM\">Cf</a><br/>98<br/>252.1 \n",
       "<td class=\"AC\"><a href=\"Elements/Es.html\" target=\"ELEM\">Es</a><br/>99<br/>252.1 \n",
       "<td class=\"AC\"><a href=\"Elements/Fm.html\" target=\"ELEM\">Fm</a><br/>100<br/>257.1 \n",
       "<td class=\"AC\"><a href=\"Elements/Md.html\" target=\"ELEM\">Md</a><br/>101<br/>256.1 \n",
       "<td class=\"AC\"><a href=\"Elements/No.html\" target=\"ELEM\">No</a><br/>102<br/>259.1 \n",
       "<td class=\"AC\"><a href=\"Elements/Lr.html\" target=\"ELEM\">Lr</a><br/>103<br/>260.1 \n",
       "\n",
       "</td></td></td></td></td></td></td></td></td></td></td></td></td></td></td></td></tr></td></td></td></td></td></td></td></td></td></td></td></td></td></td></td></td></tr></td></td></td></tr></td></td></td></td></td></td></td></td></td></td></td></td></td></td></td></td></td></td></tr></td></td></td></td></td></td></td></td></td></td></td></td></td></td></td></td></td></td></tr></td></td></td></td></td></td></td></td></td></td></td></td></td></td></td></td></td></td></tr></td></td></td></td></td></td></td></td></td></tr></td></td></td></td></td></td></td></td></td></tr></td></td></td></tr></tr></table>\n",
       "<h3><i>Created by <a href=\"mailto:seshadri@mrl.ucsb.edu\">R. Seshadri</a>\n",
       " &amp; <a href=\"mailto:r-basu@northwestern.edu\">R. Basu</a>, \n",
       " June 1999; updated October 2002</i></h3>\n",
       "<div class=\"REFERENCES\">\n",
       "<h4>References</h4>\n",
       "<ul>\n",
       "<li> For the radii:\n",
       "\n",
       "   <ul>\n",
       "<li>R.D. Shannon and C.T. Prewitt <i>Acta. Crystallogr.</i>\n",
       "<b>B 25</b> (1969) 925.</li>\n",
       "<li>R.D. Shannon <i>Acta. Crystallogr.</i>\n",
       "<b>A 32</b> (1976) 751.</li>\n",
       "<li>F. Scordari in C. Giacovazzo (eds.) <i>Fundamentals of \n",
       "     Crystallography</i> IUCr-Oxford, New York, 1992 pp 420-421</li>\n",
       "</ul>\n",
       "</li>\n",
       "</ul>\n",
       "</div>\n",
       "<div class=\"DISCLAIMER\">\n",
       "No responsibility is taken by the creaters of these tables for the data,\n",
       "for errors therein, and for problems/damages arising from their use.\n",
       "</div>\n",
       "<h4>Go to the <a href=\"http://www.mrl.ucsb.edu/~seshadri\" target=\"_top\">Ram Seshadri Group</a> homepage</h4>\n",
       "</body>\n",
       "</html>"
      ]
     },
     "execution_count": 54,
     "metadata": {},
     "output_type": "execute_result"
    }
   ],
   "source": [
    "soup"
   ]
  },
  {
   "cell_type": "code",
   "execution_count": null,
   "id": "e11b4fff-0cd8-48ce-aef8-9bb41dd45f67",
   "metadata": {},
   "outputs": [],
   "source": []
  }
 ],
 "metadata": {
  "kernelspec": {
   "display_name": "Python 3 (ipykernel)",
   "language": "python",
   "name": "python3"
  },
  "language_info": {
   "codemirror_mode": {
    "name": "ipython",
    "version": 3
   },
   "file_extension": ".py",
   "mimetype": "text/x-python",
   "name": "python",
   "nbconvert_exporter": "python",
   "pygments_lexer": "ipython3",
   "version": "3.13.2"
  }
 },
 "nbformat": 4,
 "nbformat_minor": 5
}
